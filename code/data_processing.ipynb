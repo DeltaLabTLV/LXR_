{
 "cells": [
  {
   "cell_type": "markdown",
   "id": "9d3d15ab",
   "metadata": {},
   "source": [
    "# 1. Imports"
   ]
  },
  {
   "cell_type": "code",
   "execution_count": 1,
   "id": "160299a9",
   "metadata": {},
   "outputs": [],
   "source": [
    "import pandas as pd\n",
    "import numpy as np\n",
    "import os\n",
    "from os import path\n",
    "from pathlib import Path\n",
    "from sklearn.preprocessing import LabelEncoder\n",
    "from sklearn.model_selection import train_test_split\n",
    "from sklearn.preprocessing import MultiLabelBinarizer\n",
    "import pickle\n",
    "from sklearn.metrics.pairwise import cosine_similarity\n",
    "from collections import defaultdict\n",
    "import time\n",
    "import copy"
   ]
  },
  {
   "cell_type": "code",
   "execution_count": 2,
   "id": "b2a2c01f",
   "metadata": {},
   "outputs": [],
   "source": [
    "data_name = \"ML1M\" ### Can be ML1M, ML1M_demographic, Yahoo, Pinterest\n",
    "DP_DIR = Path(\"processed_data\", data_name) \n",
    "export_dir = Path(os.getcwd())\n",
    "files_path = Path(export_dir.parent, DP_DIR)\n",
    "min_num_of_items_per_user = 2\n",
    "min_num_of_users_per_item = 2"
   ]
  },
  {
   "cell_type": "code",
   "execution_count": 5,
   "id": "052a8fec",
   "metadata": {},
   "outputs": [],
   "source": [
    "# Load ML1M data\n",
    "if data_name == \"ML1M\" or data_name == \"ML1M_demographic\":\n",
    "    data = pd.read_csv(Path(files_path , \"ratings.dat\"), sep=\"::\", engine=\"python\",\n",
    "                       names=[\"user_id_original\", \"item_id_original\", \"rating\", \"timestamp\"])\n",
    "\n",
    "    users = pd.read_csv(Path(files_path, \"users.dat\"), engine=\"python\",\n",
    "                         sep=\"::\", names=[\"user_id_original\", \"gender\", \"age\", \"occupation\", \"zipcode\"],encoding = \"ISO-8859-1\"\n",
    "    )\n",
    "    \n",
    "    movies = pd.read_csv(Path(files_path, \"movies.dat\"), engine=\"python\",\n",
    "                         sep=\"::\", names=[\"item_id_original\", \"title\", \"genres\"],encoding = \"ISO-8859-1\"\n",
    "    )\n",
    "# Load Yahoo data\n",
    "elif data_name == \"Yahoo\":\n",
    "    data = pd.read_csv(Path(files_path, \"Yahoo_ratings.csv\"), names=[\"user_id_original\", \"item_id_original\", \"rating\"])\n",
    "\n",
    "# Load Pinterest data\n",
    "elif data_name == \"Pinterest\":\n",
    "    data = pd.read_csv(Path(files_path, \"pinterest_data.csv\"), names=[\"user_id_original\", \"item_id_original\", \"rating\"])"
   ]
  },
  {
   "cell_type": "code",
   "execution_count": 6,
   "id": "68cec108",
   "metadata": {},
   "outputs": [
    {
     "data": {
      "text/html": [
       "<div>\n",
       "<style scoped>\n",
       "    .dataframe tbody tr th:only-of-type {\n",
       "        vertical-align: middle;\n",
       "    }\n",
       "\n",
       "    .dataframe tbody tr th {\n",
       "        vertical-align: top;\n",
       "    }\n",
       "\n",
       "    .dataframe thead th {\n",
       "        text-align: right;\n",
       "    }\n",
       "</style>\n",
       "<table border=\"1\" class=\"dataframe\">\n",
       "  <thead>\n",
       "    <tr style=\"text-align: right;\">\n",
       "      <th></th>\n",
       "      <th>item_id_original</th>\n",
       "      <th>title</th>\n",
       "      <th>genres</th>\n",
       "    </tr>\n",
       "  </thead>\n",
       "  <tbody>\n",
       "    <tr>\n",
       "      <th>0</th>\n",
       "      <td>1</td>\n",
       "      <td>Toy Story (1995)</td>\n",
       "      <td>Animation|Children's|Comedy</td>\n",
       "    </tr>\n",
       "    <tr>\n",
       "      <th>1</th>\n",
       "      <td>2</td>\n",
       "      <td>Jumanji (1995)</td>\n",
       "      <td>Adventure|Children's|Fantasy</td>\n",
       "    </tr>\n",
       "    <tr>\n",
       "      <th>2</th>\n",
       "      <td>3</td>\n",
       "      <td>Grumpier Old Men (1995)</td>\n",
       "      <td>Comedy|Romance</td>\n",
       "    </tr>\n",
       "    <tr>\n",
       "      <th>3</th>\n",
       "      <td>4</td>\n",
       "      <td>Waiting to Exhale (1995)</td>\n",
       "      <td>Comedy|Drama</td>\n",
       "    </tr>\n",
       "    <tr>\n",
       "      <th>4</th>\n",
       "      <td>5</td>\n",
       "      <td>Father of the Bride Part II (1995)</td>\n",
       "      <td>Comedy</td>\n",
       "    </tr>\n",
       "    <tr>\n",
       "      <th>...</th>\n",
       "      <td>...</td>\n",
       "      <td>...</td>\n",
       "      <td>...</td>\n",
       "    </tr>\n",
       "    <tr>\n",
       "      <th>3878</th>\n",
       "      <td>3948</td>\n",
       "      <td>Meet the Parents (2000)</td>\n",
       "      <td>Comedy</td>\n",
       "    </tr>\n",
       "    <tr>\n",
       "      <th>3879</th>\n",
       "      <td>3949</td>\n",
       "      <td>Requiem for a Dream (2000)</td>\n",
       "      <td>Drama</td>\n",
       "    </tr>\n",
       "    <tr>\n",
       "      <th>3880</th>\n",
       "      <td>3950</td>\n",
       "      <td>Tigerland (2000)</td>\n",
       "      <td>Drama</td>\n",
       "    </tr>\n",
       "    <tr>\n",
       "      <th>3881</th>\n",
       "      <td>3951</td>\n",
       "      <td>Two Family House (2000)</td>\n",
       "      <td>Drama</td>\n",
       "    </tr>\n",
       "    <tr>\n",
       "      <th>3882</th>\n",
       "      <td>3952</td>\n",
       "      <td>Contender, The (2000)</td>\n",
       "      <td>Drama|Thriller</td>\n",
       "    </tr>\n",
       "  </tbody>\n",
       "</table>\n",
       "<p>3883 rows × 3 columns</p>\n",
       "</div>"
      ],
      "text/plain": [
       "      item_id_original                               title  \\\n",
       "0                    1                    Toy Story (1995)   \n",
       "1                    2                      Jumanji (1995)   \n",
       "2                    3             Grumpier Old Men (1995)   \n",
       "3                    4            Waiting to Exhale (1995)   \n",
       "4                    5  Father of the Bride Part II (1995)   \n",
       "...                ...                                 ...   \n",
       "3878              3948             Meet the Parents (2000)   \n",
       "3879              3949          Requiem for a Dream (2000)   \n",
       "3880              3950                    Tigerland (2000)   \n",
       "3881              3951             Two Family House (2000)   \n",
       "3882              3952               Contender, The (2000)   \n",
       "\n",
       "                            genres  \n",
       "0      Animation|Children's|Comedy  \n",
       "1     Adventure|Children's|Fantasy  \n",
       "2                   Comedy|Romance  \n",
       "3                     Comedy|Drama  \n",
       "4                           Comedy  \n",
       "...                            ...  \n",
       "3878                        Comedy  \n",
       "3879                         Drama  \n",
       "3880                         Drama  \n",
       "3881                         Drama  \n",
       "3882                Drama|Thriller  \n",
       "\n",
       "[3883 rows x 3 columns]"
      ]
     },
     "execution_count": 6,
     "metadata": {},
     "output_type": "execute_result"
    }
   ],
   "source": [
    "movies"
   ]
  },
  {
   "cell_type": "markdown",
   "id": "de3855c3",
   "metadata": {},
   "source": [
    "# 2. Data processing"
   ]
  },
  {
   "cell_type": "code",
   "execution_count": 7,
   "id": "118301a2",
   "metadata": {},
   "outputs": [],
   "source": [
    "# Convert the ratings to binary values (1 if rating exists, 0 otherwise). \n",
    "# Keep only ratings over 70/100.\n",
    "\n",
    "if data_name=='Yahoo':\n",
    "    data[\"rating\"] = data[\"rating\"].apply(lambda x: 0 if x == 255 else x) # for Yahoo only\n",
    "    data[\"rating\"] = data[\"rating\"].apply(lambda x: 1 if x > 70 else 0)\n",
    "elif data_name=='ML1M' or data_name==\"ML1M_demographic\":\n",
    "    data[\"rating\"] = data[\"rating\"].apply(lambda x: 1 if x > 3.5 else 0)"
   ]
  },
  {
   "cell_type": "code",
   "execution_count": 8,
   "id": "d0a59772",
   "metadata": {},
   "outputs": [],
   "source": [
    "data = data[data['rating']==1]"
   ]
  },
  {
   "cell_type": "markdown",
   "id": "8d08013e",
   "metadata": {},
   "source": [
    "### recursively delete users and items with too few interactions"
   ]
  },
  {
   "cell_type": "code",
   "execution_count": 9,
   "id": "437dc566",
   "metadata": {},
   "outputs": [],
   "source": [
    "n1=1\n",
    "n2=2\n",
    "\n",
    "while n1!=n2:\n",
    "    # save only users with min_num_of_items_per_user items or more\n",
    "    user_counts = data.groupby(['user_id_original'])['item_id_original'].nunique().reset_index(name='item_count')\n",
    "\n",
    "    filtered_users = user_counts[user_counts['item_count'] >= min_num_of_items_per_user]['user_id_original']\n",
    "\n",
    "    data = data[data['user_id_original'].isin(filtered_users)].reset_index(drop=True)\n",
    "    if data_name==\"ML1M_demographic\":\n",
    "        users = users[users['user_id_original'].isin(filtered_users)].reset_index(drop=True)\n",
    "    n1=data.shape[0]\n",
    "\n",
    "    # save only items with min_num_of_users_per_item users or more\n",
    "    item_counts = data.groupby(['item_id_original'])['user_id_original'].nunique().reset_index(name='user_count')\n",
    "\n",
    "    filtered_items = item_counts[item_counts['user_count'] >= min_num_of_users_per_item]['item_id_original']\n",
    "\n",
    "    data = data[data['item_id_original'].isin(filtered_items)].reset_index(drop=True)\n",
    "    if data_name==\"ML1M_demographic\":\n",
    "        movies = movies[movies['item_id_original'].isin(filtered_items)].reset_index(drop=True)\n",
    "    n2=data.shape[0]"
   ]
  },
  {
   "cell_type": "code",
   "execution_count": 10,
   "id": "a3793f95",
   "metadata": {},
   "outputs": [
    {
     "data": {
      "text/html": [
       "<div>\n",
       "<style scoped>\n",
       "    .dataframe tbody tr th:only-of-type {\n",
       "        vertical-align: middle;\n",
       "    }\n",
       "\n",
       "    .dataframe tbody tr th {\n",
       "        vertical-align: top;\n",
       "    }\n",
       "\n",
       "    .dataframe thead th {\n",
       "        text-align: right;\n",
       "    }\n",
       "</style>\n",
       "<table border=\"1\" class=\"dataframe\">\n",
       "  <thead>\n",
       "    <tr style=\"text-align: right;\">\n",
       "      <th></th>\n",
       "      <th>user_id_original</th>\n",
       "      <th>item_id_original</th>\n",
       "      <th>rating</th>\n",
       "      <th>timestamp</th>\n",
       "    </tr>\n",
       "  </thead>\n",
       "  <tbody>\n",
       "    <tr>\n",
       "      <th>0</th>\n",
       "      <td>1</td>\n",
       "      <td>1193</td>\n",
       "      <td>1</td>\n",
       "      <td>978300760</td>\n",
       "    </tr>\n",
       "    <tr>\n",
       "      <th>1</th>\n",
       "      <td>1</td>\n",
       "      <td>3408</td>\n",
       "      <td>1</td>\n",
       "      <td>978300275</td>\n",
       "    </tr>\n",
       "    <tr>\n",
       "      <th>2</th>\n",
       "      <td>1</td>\n",
       "      <td>2355</td>\n",
       "      <td>1</td>\n",
       "      <td>978824291</td>\n",
       "    </tr>\n",
       "    <tr>\n",
       "      <th>3</th>\n",
       "      <td>1</td>\n",
       "      <td>1287</td>\n",
       "      <td>1</td>\n",
       "      <td>978302039</td>\n",
       "    </tr>\n",
       "    <tr>\n",
       "      <th>4</th>\n",
       "      <td>1</td>\n",
       "      <td>2804</td>\n",
       "      <td>1</td>\n",
       "      <td>978300719</td>\n",
       "    </tr>\n",
       "    <tr>\n",
       "      <th>...</th>\n",
       "      <td>...</td>\n",
       "      <td>...</td>\n",
       "      <td>...</td>\n",
       "      <td>...</td>\n",
       "    </tr>\n",
       "    <tr>\n",
       "      <th>575123</th>\n",
       "      <td>6040</td>\n",
       "      <td>1089</td>\n",
       "      <td>1</td>\n",
       "      <td>956704996</td>\n",
       "    </tr>\n",
       "    <tr>\n",
       "      <th>575124</th>\n",
       "      <td>6040</td>\n",
       "      <td>1094</td>\n",
       "      <td>1</td>\n",
       "      <td>956704887</td>\n",
       "    </tr>\n",
       "    <tr>\n",
       "      <th>575125</th>\n",
       "      <td>6040</td>\n",
       "      <td>562</td>\n",
       "      <td>1</td>\n",
       "      <td>956704746</td>\n",
       "    </tr>\n",
       "    <tr>\n",
       "      <th>575126</th>\n",
       "      <td>6040</td>\n",
       "      <td>1096</td>\n",
       "      <td>1</td>\n",
       "      <td>956715648</td>\n",
       "    </tr>\n",
       "    <tr>\n",
       "      <th>575127</th>\n",
       "      <td>6040</td>\n",
       "      <td>1097</td>\n",
       "      <td>1</td>\n",
       "      <td>956715569</td>\n",
       "    </tr>\n",
       "  </tbody>\n",
       "</table>\n",
       "<p>575128 rows × 4 columns</p>\n",
       "</div>"
      ],
      "text/plain": [
       "        user_id_original  item_id_original  rating  timestamp\n",
       "0                      1              1193       1  978300760\n",
       "1                      1              3408       1  978300275\n",
       "2                      1              2355       1  978824291\n",
       "3                      1              1287       1  978302039\n",
       "4                      1              2804       1  978300719\n",
       "...                  ...               ...     ...        ...\n",
       "575123              6040              1089       1  956704996\n",
       "575124              6040              1094       1  956704887\n",
       "575125              6040               562       1  956704746\n",
       "575126              6040              1096       1  956715648\n",
       "575127              6040              1097       1  956715569\n",
       "\n",
       "[575128 rows x 4 columns]"
      ]
     },
     "execution_count": 10,
     "metadata": {},
     "output_type": "execute_result"
    }
   ],
   "source": [
    "data"
   ]
  },
  {
   "cell_type": "code",
   "execution_count": 11,
   "id": "6f41f52b",
   "metadata": {},
   "outputs": [],
   "source": [
    "# Encode target values\n",
    "item_encoder = LabelEncoder()\n",
    "user_encoder = LabelEncoder()\n",
    "user_encoder.fit(data.user_id_original)\n",
    "\n",
    "if data_name==\"ML1M_demographic\":\n",
    "    item_encoder.fit(movies.item_id_original)\n",
    "    movies[\"item_id\"] = item_encoder.transform(movies.item_id_original)\n",
    "    users['user_id'] = user_encoder.transform(users.user_id_original)\n",
    "else:\n",
    "    item_encoder.fit(data.item_id_original)\n",
    "\n",
    "data[\"user_id\"] = user_encoder.transform(data.user_id_original)\n",
    "data[\"item_id\"] = item_encoder.transform(data.item_id_original)\n",
    "\n",
    "# Get the number of users and items in the dataset\n",
    "num_users = data.user_id.unique().shape[0]\n",
    "num_items = data.item_id.unique().shape[0]"
   ]
  },
  {
   "cell_type": "code",
   "execution_count": 12,
   "id": "83cbc741",
   "metadata": {},
   "outputs": [
    {
     "data": {
      "text/html": [
       "<div>\n",
       "<style scoped>\n",
       "    .dataframe tbody tr th:only-of-type {\n",
       "        vertical-align: middle;\n",
       "    }\n",
       "\n",
       "    .dataframe tbody tr th {\n",
       "        vertical-align: top;\n",
       "    }\n",
       "\n",
       "    .dataframe thead th {\n",
       "        text-align: right;\n",
       "    }\n",
       "</style>\n",
       "<table border=\"1\" class=\"dataframe\">\n",
       "  <thead>\n",
       "    <tr style=\"text-align: right;\">\n",
       "      <th></th>\n",
       "      <th>item_id_original</th>\n",
       "      <th>title</th>\n",
       "      <th>genres</th>\n",
       "    </tr>\n",
       "  </thead>\n",
       "  <tbody>\n",
       "    <tr>\n",
       "      <th>0</th>\n",
       "      <td>1</td>\n",
       "      <td>Toy Story (1995)</td>\n",
       "      <td>Animation|Children's|Comedy</td>\n",
       "    </tr>\n",
       "    <tr>\n",
       "      <th>1</th>\n",
       "      <td>2</td>\n",
       "      <td>Jumanji (1995)</td>\n",
       "      <td>Adventure|Children's|Fantasy</td>\n",
       "    </tr>\n",
       "    <tr>\n",
       "      <th>2</th>\n",
       "      <td>3</td>\n",
       "      <td>Grumpier Old Men (1995)</td>\n",
       "      <td>Comedy|Romance</td>\n",
       "    </tr>\n",
       "    <tr>\n",
       "      <th>3</th>\n",
       "      <td>4</td>\n",
       "      <td>Waiting to Exhale (1995)</td>\n",
       "      <td>Comedy|Drama</td>\n",
       "    </tr>\n",
       "    <tr>\n",
       "      <th>4</th>\n",
       "      <td>5</td>\n",
       "      <td>Father of the Bride Part II (1995)</td>\n",
       "      <td>Comedy</td>\n",
       "    </tr>\n",
       "    <tr>\n",
       "      <th>...</th>\n",
       "      <td>...</td>\n",
       "      <td>...</td>\n",
       "      <td>...</td>\n",
       "    </tr>\n",
       "    <tr>\n",
       "      <th>3878</th>\n",
       "      <td>3948</td>\n",
       "      <td>Meet the Parents (2000)</td>\n",
       "      <td>Comedy</td>\n",
       "    </tr>\n",
       "    <tr>\n",
       "      <th>3879</th>\n",
       "      <td>3949</td>\n",
       "      <td>Requiem for a Dream (2000)</td>\n",
       "      <td>Drama</td>\n",
       "    </tr>\n",
       "    <tr>\n",
       "      <th>3880</th>\n",
       "      <td>3950</td>\n",
       "      <td>Tigerland (2000)</td>\n",
       "      <td>Drama</td>\n",
       "    </tr>\n",
       "    <tr>\n",
       "      <th>3881</th>\n",
       "      <td>3951</td>\n",
       "      <td>Two Family House (2000)</td>\n",
       "      <td>Drama</td>\n",
       "    </tr>\n",
       "    <tr>\n",
       "      <th>3882</th>\n",
       "      <td>3952</td>\n",
       "      <td>Contender, The (2000)</td>\n",
       "      <td>Drama|Thriller</td>\n",
       "    </tr>\n",
       "  </tbody>\n",
       "</table>\n",
       "<p>3883 rows × 3 columns</p>\n",
       "</div>"
      ],
      "text/plain": [
       "      item_id_original                               title  \\\n",
       "0                    1                    Toy Story (1995)   \n",
       "1                    2                      Jumanji (1995)   \n",
       "2                    3             Grumpier Old Men (1995)   \n",
       "3                    4            Waiting to Exhale (1995)   \n",
       "4                    5  Father of the Bride Part II (1995)   \n",
       "...                ...                                 ...   \n",
       "3878              3948             Meet the Parents (2000)   \n",
       "3879              3949          Requiem for a Dream (2000)   \n",
       "3880              3950                    Tigerland (2000)   \n",
       "3881              3951             Two Family House (2000)   \n",
       "3882              3952               Contender, The (2000)   \n",
       "\n",
       "                            genres  \n",
       "0      Animation|Children's|Comedy  \n",
       "1     Adventure|Children's|Fantasy  \n",
       "2                   Comedy|Romance  \n",
       "3                     Comedy|Drama  \n",
       "4                           Comedy  \n",
       "...                            ...  \n",
       "3878                        Comedy  \n",
       "3879                         Drama  \n",
       "3880                         Drama  \n",
       "3881                         Drama  \n",
       "3882                Drama|Thriller  \n",
       "\n",
       "[3883 rows x 3 columns]"
      ]
     },
     "execution_count": 12,
     "metadata": {},
     "output_type": "execute_result"
    }
   ],
   "source": [
    "movies"
   ]
  },
  {
   "cell_type": "code",
   "execution_count": 13,
   "id": "d8c5398b",
   "metadata": {},
   "outputs": [
    {
     "name": "stdout",
     "output_type": "stream",
     "text": [
      "num_items =  3381  num_users =  6037\n"
     ]
    }
   ],
   "source": [
    "print('num_items = ', num_items, ' num_users = ', num_users)"
   ]
  },
  {
   "cell_type": "markdown",
   "id": "be151214",
   "metadata": {},
   "source": [
    "## prepare demographics data"
   ]
  },
  {
   "cell_type": "code",
   "execution_count": 14,
   "id": "e0285039",
   "metadata": {},
   "outputs": [],
   "source": [
    "if data_name==\"ML1M_demographic\":\n",
    "    data = data[['user_id', 'item_id']]\n",
    "    users = users[['user_id', 'gender','age','occupation', 'zipcode']]\n",
    "\n",
    "    # create Male and Female columns\n",
    "    users['male'] = users.gender.apply(lambda x: 1 if x == 'M' else 0)\n",
    "    users['female'] = users.gender.apply(lambda x: 1 if x == 'F' else 0)\n",
    "\n",
    "    # create columns of the first zipcode digite\n",
    "    users['zipcode'] = users.zipcode.apply(lambda x: int(str(x)[0]))\n",
    "    zipcode_df = pd.get_dummies(users.zipcode, prefix='zipcode', dtype='int')\n",
    "    users = pd.concat([users, zipcode_df], axis=1).drop(columns=['zipcode'])\n",
    "\n",
    "    # create age columns\n",
    "    age_df = pd.get_dummies(users.age, prefix='age>=', dtype='int')\n",
    "    users = pd.concat([users, age_df], axis=1).drop(columns=['age'])\n",
    "\n",
    "    # create occupation columns\n",
    "    occupation_df = pd.get_dummies(users.occupation, prefix='occupation', dtype='int')\n",
    "    users = pd.concat([users, occupation_df], axis=1).drop(columns=['occupation'])\n",
    "\n",
    "    users = users.drop(columns=['gender', 'user_id'])\n"
   ]
  },
  {
   "cell_type": "markdown",
   "id": "925aad07",
   "metadata": {},
   "source": [
    "##  transform the data to encoding representation"
   ]
  },
  {
   "cell_type": "code",
   "execution_count": 15,
   "id": "73ad9f41",
   "metadata": {},
   "outputs": [],
   "source": [
    "# transform the data to encoding representation\n",
    "user_group = data[[\"user_id\",\"item_id\"]].groupby(data.user_id)\n",
    "\n",
    "users_data = pd.DataFrame(\n",
    "    data={\n",
    "        \"user_id\": list(user_group.groups.keys()),\n",
    "        \"item_ids\": list(user_group.item_id.apply(list)),\n",
    "    }    \n",
    ")\n"
   ]
  },
  {
   "cell_type": "code",
   "execution_count": 16,
   "id": "fad57051",
   "metadata": {},
   "outputs": [],
   "source": [
    "mlb = MultiLabelBinarizer()\n",
    "user_one_hot = pd.DataFrame(mlb.fit_transform(users_data[\"item_ids\"]),columns=mlb.classes_, index=users_data[\"item_ids\"].index)"
   ]
  },
  {
   "cell_type": "code",
   "execution_count": 17,
   "id": "4d2e1a0a",
   "metadata": {},
   "outputs": [],
   "source": [
    "if data_name==\"ML1M_demographic\":\n",
    "    user_one_hot = pd.concat([user_one_hot, users], axis=1)\n",
    "user_one_hot[\"user_id\"]=users_data[\"user_id\"]"
   ]
  },
  {
   "cell_type": "code",
   "execution_count": 18,
   "id": "50c0d2c8",
   "metadata": {},
   "outputs": [],
   "source": [
    "# train test split\n",
    "X_train, X_test, y_train, y_test = train_test_split(user_one_hot.iloc[:,:-1], user_one_hot.iloc[:,-1], test_size=0.2, random_state=42)"
   ]
  },
  {
   "cell_type": "code",
   "execution_count": 19,
   "id": "b1b9c273",
   "metadata": {
    "scrolled": true
   },
   "outputs": [],
   "source": [
    "X_train.reset_index(drop=True, inplace=True)"
   ]
  },
  {
   "cell_type": "code",
   "execution_count": 20,
   "id": "d080a49d",
   "metadata": {},
   "outputs": [],
   "source": [
    "X_test.index = np.arange(X_train.shape[0], num_users)"
   ]
  },
  {
   "cell_type": "code",
   "execution_count": null,
   "id": "549c3b78",
   "metadata": {},
   "outputs": [],
   "source": [
    "X_test.to_csv(Path(files_path, f'test_data_{data_name}.csv'))"
   ]
  },
  {
   "cell_type": "code",
   "execution_count": null,
   "id": "f1628df2",
   "metadata": {},
   "outputs": [],
   "source": [
    "X_train.to_csv(Path(files_path, f'train_data_{data_name}.csv'))"
   ]
  },
  {
   "cell_type": "code",
   "execution_count": null,
   "id": "85fa3509",
   "metadata": {},
   "outputs": [],
   "source": [
    "movies.to_csv(Path(files_path, f'movies.csv'))"
   ]
  },
  {
   "cell_type": "markdown",
   "id": "d53d8d21",
   "metadata": {},
   "source": [
    "# 3. Create dictionaries for baselines"
   ]
  },
  {
   "cell_type": "code",
   "execution_count": 21,
   "id": "f3ee8a0d",
   "metadata": {},
   "outputs": [],
   "source": [
    "num_features = X_train.shape[1]"
   ]
  },
  {
   "cell_type": "markdown",
   "id": "54128b93",
   "metadata": {},
   "source": [
    "### Jaccard dictionary"
   ]
  },
  {
   "cell_type": "code",
   "execution_count": 22,
   "id": "45f0134e",
   "metadata": {},
   "outputs": [],
   "source": [
    "data_array = X_train.to_numpy() #np array of one hot, shape (|U_train|,|I|)"
   ]
  },
  {
   "cell_type": "code",
   "execution_count": 23,
   "id": "ebcacab5",
   "metadata": {
    "scrolled": true
   },
   "outputs": [
    {
     "ename": "KeyboardInterrupt",
     "evalue": "",
     "output_type": "error",
     "traceback": [
      "\u001b[1;31m---------------------------------------------------------------------------\u001b[0m",
      "\u001b[1;31mKeyboardInterrupt\u001b[0m                         Traceback (most recent call last)",
      "Cell \u001b[1;32mIn[23], line 4\u001b[0m\n\u001b[0;32m      2\u001b[0m \u001b[38;5;28;01mfor\u001b[39;00m i \u001b[38;5;129;01min\u001b[39;00m \u001b[38;5;28mrange\u001b[39m(num_features):\n\u001b[0;32m      3\u001b[0m     \u001b[38;5;28;01mfor\u001b[39;00m j \u001b[38;5;129;01min\u001b[39;00m \u001b[38;5;28mrange\u001b[39m(i, num_features):\n\u001b[1;32m----> 4\u001b[0m         intersection \u001b[38;5;241m=\u001b[39m (data_array[:,i]\u001b[38;5;241m*\u001b[39mdata_array[:,j])\u001b[38;5;241m.\u001b[39msum()\n\u001b[0;32m      5\u001b[0m         union \u001b[38;5;241m=\u001b[39m np\u001b[38;5;241m.\u001b[39mcount_nonzero(data_array[:,i]\u001b[38;5;241m+\u001b[39mdata_array[:,j])\n\u001b[0;32m      6\u001b[0m         \u001b[38;5;28;01mif\u001b[39;00m union \u001b[38;5;241m==\u001b[39m \u001b[38;5;241m0\u001b[39m:\n",
      "File \u001b[1;32m~\\AppData\\Local\\anaconda3\\Lib\\site-packages\\numpy\\core\\_methods.py:47\u001b[0m, in \u001b[0;36m_sum\u001b[1;34m(a, axis, dtype, out, keepdims, initial, where)\u001b[0m\n\u001b[0;32m     43\u001b[0m \u001b[38;5;28;01mdef\u001b[39;00m \u001b[38;5;21m_amin\u001b[39m(a, axis\u001b[38;5;241m=\u001b[39m\u001b[38;5;28;01mNone\u001b[39;00m, out\u001b[38;5;241m=\u001b[39m\u001b[38;5;28;01mNone\u001b[39;00m, keepdims\u001b[38;5;241m=\u001b[39m\u001b[38;5;28;01mFalse\u001b[39;00m,\n\u001b[0;32m     44\u001b[0m           initial\u001b[38;5;241m=\u001b[39m_NoValue, where\u001b[38;5;241m=\u001b[39m\u001b[38;5;28;01mTrue\u001b[39;00m):\n\u001b[0;32m     45\u001b[0m     \u001b[38;5;28;01mreturn\u001b[39;00m umr_minimum(a, axis, \u001b[38;5;28;01mNone\u001b[39;00m, out, keepdims, initial, where)\n\u001b[1;32m---> 47\u001b[0m \u001b[38;5;28;01mdef\u001b[39;00m \u001b[38;5;21m_sum\u001b[39m(a, axis\u001b[38;5;241m=\u001b[39m\u001b[38;5;28;01mNone\u001b[39;00m, dtype\u001b[38;5;241m=\u001b[39m\u001b[38;5;28;01mNone\u001b[39;00m, out\u001b[38;5;241m=\u001b[39m\u001b[38;5;28;01mNone\u001b[39;00m, keepdims\u001b[38;5;241m=\u001b[39m\u001b[38;5;28;01mFalse\u001b[39;00m,\n\u001b[0;32m     48\u001b[0m          initial\u001b[38;5;241m=\u001b[39m_NoValue, where\u001b[38;5;241m=\u001b[39m\u001b[38;5;28;01mTrue\u001b[39;00m):\n\u001b[0;32m     49\u001b[0m     \u001b[38;5;28;01mreturn\u001b[39;00m umr_sum(a, axis, dtype, out, keepdims, initial, where)\n\u001b[0;32m     51\u001b[0m \u001b[38;5;28;01mdef\u001b[39;00m \u001b[38;5;21m_prod\u001b[39m(a, axis\u001b[38;5;241m=\u001b[39m\u001b[38;5;28;01mNone\u001b[39;00m, dtype\u001b[38;5;241m=\u001b[39m\u001b[38;5;28;01mNone\u001b[39;00m, out\u001b[38;5;241m=\u001b[39m\u001b[38;5;28;01mNone\u001b[39;00m, keepdims\u001b[38;5;241m=\u001b[39m\u001b[38;5;28;01mFalse\u001b[39;00m,\n\u001b[0;32m     52\u001b[0m           initial\u001b[38;5;241m=\u001b[39m_NoValue, where\u001b[38;5;241m=\u001b[39m\u001b[38;5;28;01mTrue\u001b[39;00m):\n",
      "\u001b[1;31mKeyboardInterrupt\u001b[0m: "
     ]
    }
   ],
   "source": [
    "jaccard_dict = {}\n",
    "for i in range(num_features):\n",
    "    for j in range(i, num_features):\n",
    "        intersection = (data_array[:,i]*data_array[:,j]).sum()\n",
    "        union = np.count_nonzero(data_array[:,i]+data_array[:,j])\n",
    "        if union == 0:\n",
    "            jaccard_dict[(i,j)]=0\n",
    "        else:\n",
    "            jaccard_dict[(i,j)]=(intersection/union).astype('float32')"
   ]
  },
  {
   "cell_type": "code",
   "execution_count": null,
   "id": "0e714a99",
   "metadata": {},
   "outputs": [],
   "source": [
    "file_path = Path(files_path, f'jaccard_based_sim_{data_name}.pkl')\n",
    "\n",
    "with open(file_path, 'wb') as f:\n",
    "    pickle.dump(jaccard_dict, f)"
   ]
  },
  {
   "cell_type": "markdown",
   "id": "fe7ba53b",
   "metadata": {},
   "source": [
    "### Cosine dictionary"
   ]
  },
  {
   "cell_type": "code",
   "execution_count": null,
   "id": "d9bbd8c2",
   "metadata": {},
   "outputs": [],
   "source": [
    "cosine_items = cosine_similarity(X_train.T).astype('float32')"
   ]
  },
  {
   "cell_type": "code",
   "execution_count": null,
   "id": "5dd194e5",
   "metadata": {},
   "outputs": [],
   "source": [
    "cosine_items_dict = {}\n",
    "\n",
    "# Loop through the rows and columns of the ndarray and add each element to the dictionary\n",
    "for i in range(cosine_items.shape[0]):\n",
    "    for j in range(i,cosine_items.shape[1]):\n",
    "        cosine_items_dict[(i, j)] = cosine_items[i][j]"
   ]
  },
  {
   "cell_type": "code",
   "execution_count": null,
   "id": "050bfc58",
   "metadata": {},
   "outputs": [],
   "source": [
    "file_path = Path(files_path, f'cosine_based_sim_{data_name}.pkl')\n",
    "\n",
    "with open(file_path, 'wb') as f:\n",
    "    pickle.dump(cosine_items_dict, f)"
   ]
  },
  {
   "cell_type": "markdown",
   "id": "fc8d2059",
   "metadata": {},
   "source": [
    "### Popularity dictionary"
   ]
  },
  {
   "cell_type": "code",
   "execution_count": null,
   "id": "4582ef23",
   "metadata": {},
   "outputs": [],
   "source": [
    "pop_array = (X_train.sum(axis=0)/X_train.sum(axis=0).max())\n",
    "pop_dict = {}\n",
    "\n",
    "for i in range(num_items):\n",
    "    pop_dict[i]=pop_array[i]\n",
    "    "
   ]
  },
  {
   "cell_type": "code",
   "execution_count": null,
   "id": "3f48925f",
   "metadata": {},
   "outputs": [],
   "source": [
    "file_path = Path(files_path, f'pop_dict_{data_name}.pkl')\n",
    "\n",
    "with open(file_path, 'wb') as f:\n",
    "    pickle.dump(pop_dict, f)"
   ]
  },
  {
   "cell_type": "markdown",
   "id": "f3878fb9",
   "metadata": {},
   "source": [
    "### TF-IDF"
   ]
  },
  {
   "cell_type": "code",
   "execution_count": null,
   "id": "4219e83d",
   "metadata": {},
   "outputs": [],
   "source": [
    "data_array = pd.concat([X_train, X_test], axis=0).to_numpy() #np array of one hot, shape (|U|,|I|)"
   ]
  },
  {
   "cell_type": "code",
   "execution_count": null,
   "id": "c31601ac",
   "metadata": {},
   "outputs": [],
   "source": [
    "w_count = user_one_hot.iloc[:,:-1].sum(axis=1) # numer of items in user's history, shape = |U|\n",
    "\n",
    "n_appearance = user_one_hot.iloc[:,:-1].sum(axis=0) # number of appearances of item in user histories, shape = |I|"
   ]
  },
  {
   "cell_type": "code",
   "execution_count": null,
   "id": "e6953108",
   "metadata": {},
   "outputs": [],
   "source": [
    "n_appearance.index = np.arange(num_features)"
   ]
  },
  {
   "cell_type": "code",
   "execution_count": null,
   "id": "52b33e22",
   "metadata": {},
   "outputs": [],
   "source": [
    "tf_idf_dict = defaultdict(dict)\n",
    "for u in range(num_users):\n",
    "    for i in range(num_features):\n",
    "        if data_array[u,i] == 1:\n",
    "            tf = 1/w_count[u]\n",
    "            idf = np.log10(num_users/n_appearance[i])\n",
    "            tf_idf_dict[u][i] = tf*idf"
   ]
  },
  {
   "cell_type": "code",
   "execution_count": null,
   "id": "142a9bbe",
   "metadata": {},
   "outputs": [],
   "source": [
    "file_path = Path(files_path, f'tf_idf_dict_{data_name}.pkl')\n",
    "\n",
    "with open(file_path, 'wb') as f:\n",
    "    pickle.dump(tf_idf_dict, f)"
   ]
  },
  {
   "cell_type": "markdown",
   "id": "9eb3324b",
   "metadata": {},
   "source": [
    "### Create static_test_data"
   ]
  },
  {
   "cell_type": "code",
   "execution_count": null,
   "id": "ba98a497",
   "metadata": {},
   "outputs": [],
   "source": [
    "np.random.seed(42)\n",
    "static_test_data = X_test.copy()\n",
    "matrix = np.array(static_test_data)[:,:num_items] # keep only items columns, remove demographic features columns\n",
    "zero_indices = []\n",
    "one_indices = []\n",
    "\n",
    "for row in matrix:\n",
    "    zero_idx = np.where(row == 0)[0]\n",
    "    one_idx = np.where(row == 1)[0]\n",
    "    probs = pop_array[zero_idx]\n",
    "    probs = probs/ np.sum(probs)\n",
    "\n",
    "    sampled_zero = np.random.choice(zero_idx, p = probs) # sample negative interactions according to items popularity \n",
    "    zero_indices.append(sampled_zero)\n",
    "\n",
    "    sampled_one = np.random.choice(one_idx) # sample positive interactions from user's history\n",
    "    static_test_data.iloc[row, sampled_one] = 0\n",
    "    one_indices.append(sampled_one)\n",
    "\n",
    "static_test_data['pos'] = one_indices\n",
    "static_test_data['neg'] = zero_indices"
   ]
  },
  {
   "cell_type": "code",
   "execution_count": null,
   "id": "95a50d24",
   "metadata": {},
   "outputs": [],
   "source": [
    "static_test_data.to_csv(Path(files_path,f'static_test_data_{data_name}.csv'))"
   ]
  }
 ],
 "metadata": {
  "kernelspec": {
   "display_name": "Python 3 (ipykernel)",
   "language": "python",
   "name": "python3"
  },
  "language_info": {
   "codemirror_mode": {
    "name": "ipython",
    "version": 3
   },
   "file_extension": ".py",
   "mimetype": "text/x-python",
   "name": "python",
   "nbconvert_exporter": "python",
   "pygments_lexer": "ipython3",
   "version": "3.11.5"
  }
 },
 "nbformat": 4,
 "nbformat_minor": 5
}
